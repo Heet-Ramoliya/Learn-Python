{
 "cells": [
  {
   "cell_type": "markdown",
   "metadata": {},
   "source": [
    "## Sorting"
   ]
  },
  {
   "cell_type": "code",
   "execution_count": null,
   "metadata": {},
   "outputs": [],
   "source": [
    "import pandas as pd"
   ]
  },
  {
   "cell_type": "code",
   "execution_count": null,
   "metadata": {},
   "outputs": [],
   "source": [
    "data = {\n",
    "    \"Name\":['Heet','Sunny','Karan'],\n",
    "    \"Age\":[30,19,45],\n",
    "    \"Salary\":[30000,67000,32000]\n",
    "}\n",
    "\n",
    "df = pd.DataFrame(data)\n",
    "print(df)"
   ]
  },
  {
   "cell_type": "code",
   "execution_count": null,
   "metadata": {},
   "outputs": [],
   "source": [
    "# single column  sort\n",
    "df.sort_values(by=\"Age\",ascending=False,inplace=True)\n",
    "\n",
    "# multiple column sort\n",
    "df.sort_values(by=[\"Age\",\"Salary\"],ascending=[True,False],inplace=True)\n",
    "print(df)"
   ]
  },
  {
   "cell_type": "markdown",
   "metadata": {},
   "source": [
    "## Aggregation"
   ]
  },
  {
   "cell_type": "code",
   "execution_count": null,
   "metadata": {},
   "outputs": [],
   "source": [
    "data = {\n",
    "    \"Name\":['Heet','Sunny','Karan',\"Smit\",\"Harsh\"],\n",
    "    \"Age\":[30,19,45,19,30],\n",
    "    \"Salary\":[30000,67000,32000,55000,90000]\n",
    "}\n",
    "\n",
    "df = pd.DataFrame(data)\n",
    "\n",
    "avg_salary = df['Salary'].mean()\n",
    "sum_salary = df['Salary'].sum()\n",
    "print(avg_salary)\n",
    "print(sum_salary)"
   ]
  },
  {
   "cell_type": "markdown",
   "metadata": {},
   "source": [
    "## groupby"
   ]
  },
  {
   "cell_type": "code",
   "execution_count": null,
   "metadata": {},
   "outputs": [],
   "source": [
    "data = {\n",
    "    \"Name\":['Heet','Sunny','Karan',\"Smit\",\"Harsh\"],\n",
    "    \"Age\":[30,19,45,19,30],\n",
    "    \"Salary\":[30000,67000,32000,55000,90000]\n",
    "}\n",
    "\n",
    "df = pd.DataFrame(data)\n",
    "\n",
    "grouped = df.groupby(\"Age\")[\"Salary\"].sum()\n",
    "print(grouped)\n",
    "\n",
    "group = df.groupby([\"Age\",\"Name\"])[\"Salary\"].sum()\n",
    "print(group)"
   ]
  },
  {
   "cell_type": "markdown",
   "metadata": {},
   "source": [
    "## merge() method"
   ]
  },
  {
   "cell_type": "code",
   "execution_count": null,
   "metadata": {},
   "outputs": [],
   "source": [
    "df_customers = pd.DataFrame({\n",
    "    'Customer_ID':[1,2,3],\n",
    "    'Name':[\"Heet\",\"Sunny\",\"Karan\"]\n",
    "})\n",
    "\n",
    "df_ordered = pd.DataFrame({\n",
    "    \"Customer_ID\":[1,2,5],\n",
    "    'OrderAmount':[250,300,350]\n",
    "})\n",
    "\n",
    "df_merge_inner = pd.merge(df_customers,df_ordered,on=\"Customer_ID\",how=\"inner\")\n",
    "print(df_merge_inner)\n",
    "\n",
    "df_merge_outer = pd.merge(df_customers,df_ordered,on=\"Customer_ID\",how=\"outer\")\n",
    "print(df_merge_outer)\n",
    "\n",
    "df_merge_left = pd.merge(df_customers,df_ordered,on=\"Customer_ID\",how=\"left\")\n",
    "print(df_merge_left)\n",
    "\n",
    "df_merge_right = pd.merge(df_customers,df_ordered,on=\"Customer_ID\",how=\"right\")\n",
    "print(df_merge_right)\n",
    "\n",
    "df_merge_cross = pd.merge(df_customers,df_ordered,how=\"cross\")\n",
    "print(df_merge_cross)"
   ]
  },
  {
   "cell_type": "markdown",
   "metadata": {},
   "source": [
    "## Concatenation"
   ]
  },
  {
   "cell_type": "code",
   "execution_count": null,
   "metadata": {},
   "outputs": [],
   "source": [
    "data = pd.DataFrame({\n",
    "    \"CustomerID\":[1,2],\n",
    "    \"Name\":['Heet',\"Harsh\"]\n",
    "})\n",
    "\n",
    "data1 = pd.DataFrame({\n",
    "    \"CustomerID\":[3,4],\n",
    "    \"Name\":['Sunny',\"Karan\"]\n",
    "})\n",
    "\n",
    "# vertically(row) concatenation\n",
    "df_concat_v = pd.concat([data,data1],ignore_index=True)\n",
    "print(df_concat_v)\n",
    "\n",
    "# Horizontal(colum) concatenation\n",
    "df_concat_h = pd.concat([data,data1],axis=1,ignore_index=True)\n",
    "print(df_concat_h)"
   ]
  }
 ],
 "metadata": {
  "kernelspec": {
   "display_name": ".venv",
   "language": "python",
   "name": "python3"
  },
  "language_info": {
   "codemirror_mode": {
    "name": "ipython",
    "version": 3
   },
   "file_extension": ".py",
   "mimetype": "text/x-python",
   "name": "python",
   "nbconvert_exporter": "python",
   "pygments_lexer": "ipython3",
   "version": "3.13.2"
  }
 },
 "nbformat": 4,
 "nbformat_minor": 2
}
