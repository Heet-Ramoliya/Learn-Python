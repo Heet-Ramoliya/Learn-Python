{
 "cells": [
  {
   "cell_type": "code",
   "execution_count": null,
   "metadata": {},
   "outputs": [],
   "source": [
    "import pandas as pd"
   ]
  },
  {
   "cell_type": "code",
   "execution_count": null,
   "metadata": {},
   "outputs": [],
   "source": [
    "data = {\n",
    "    \"Name\":['Ram','shyam','Heet','Sunny','Karan','Smit','Raj'],\n",
    "    \"Age\":[20,35,22,40,29,70,25],\n",
    "    \"Salary\":[60000,20000,90000,45000,24000,99000,87000],\n",
    "    \"PerformanceScore\":[85,90,80,45,98,59,69]\n",
    "}\n",
    "\n",
    "df = pd.DataFrame(data)"
   ]
  },
  {
   "cell_type": "markdown",
   "metadata": {},
   "source": [
    "## Insert column"
   ]
  },
  {
   "cell_type": "code",
   "execution_count": null,
   "metadata": {},
   "outputs": [],
   "source": [
    "df[\"Bonus\"] = df[\"Salary\"] * 0.1\n",
    "print(df)\n",
    "\n",
    "#using insert method\n",
    "df.insert(0, \"Employee_ID\", [10,20,30,40,50,60,70])\n",
    "print(df)"
   ]
  },
  {
   "cell_type": "markdown",
   "metadata": {},
   "source": [
    "## Update Value"
   ]
  },
  {
   "cell_type": "code",
   "execution_count": null,
   "metadata": {},
   "outputs": [],
   "source": [
    "df.loc[6,'Salary'] = 70000\n",
    "print(df)\n",
    "\n",
    "#increase salary all employee\n",
    "df[\"Salary\"] = df[\"Salary\"] * 1.05\n",
    "print(df)"
   ]
  },
  {
   "cell_type": "markdown",
   "metadata": {},
   "source": [
    "## Drop() method"
   ]
  },
  {
   "cell_type": "code",
   "execution_count": null,
   "metadata": {},
   "outputs": [],
   "source": [
    "data = {\n",
    "    \"Name\":['Ram','shyam','Heet','Sunny','Karan','Smit','Raj'],\n",
    "    \"Age\":[20,35,22,40,29,70,25],\n",
    "    \"Salary\":[60000,20000,90000,45000,24000,99000,87000],\n",
    "    \"PerformanceScore\":[85,90,80,45,98,59,69]\n",
    "}\n",
    "\n",
    "df = pd.DataFrame(data)\n",
    "\n",
    "df.drop(columns=[\"PerformanceScore\",\"Age\"],inplace=True)\n",
    "print(df)"
   ]
  }
 ],
 "metadata": {
  "kernelspec": {
   "display_name": ".venv",
   "language": "python",
   "name": "python3"
  },
  "language_info": {
   "codemirror_mode": {
    "name": "ipython",
    "version": 3
   },
   "file_extension": ".py",
   "mimetype": "text/x-python",
   "name": "python",
   "nbconvert_exporter": "python",
   "pygments_lexer": "ipython3",
   "version": "3.13.2"
  }
 },
 "nbformat": 4,
 "nbformat_minor": 2
}
