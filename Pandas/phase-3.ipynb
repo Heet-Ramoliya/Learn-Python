{
 "cells": [
  {
   "cell_type": "code",
   "execution_count": null,
   "metadata": {},
   "outputs": [],
   "source": [
    "import pandas as pd\n",
    "import numpy as np"
   ]
  },
  {
   "cell_type": "markdown",
   "metadata": {},
   "source": [
    "## Handle Missing Data"
   ]
  },
  {
   "cell_type": "code",
   "execution_count": null,
   "metadata": {},
   "outputs": [],
   "source": [
    "data = {\n",
    "    \"Name\":['Ram',None,'shyam','Heet','Sunny','Karan','Smit','Raj'],\n",
    "    \"Age\":[20,None,35,22,40,29,70,25],\n",
    "    \"Salary\":[60000,None,20000,90000,45000,24000,99000,87000],\n",
    "    \"PerformanceScore\":[85,None,90,80,45,98,59,69]\n",
    "}\n",
    "\n",
    "df = pd.DataFrame(data)\n",
    "print(df)\n",
    "\n",
    "print(df.isnull().sum())"
   ]
  },
  {
   "cell_type": "markdown",
   "metadata": {},
   "source": [
    "## Dropna() method"
   ]
  },
  {
   "cell_type": "code",
   "execution_count": null,
   "metadata": {},
   "outputs": [],
   "source": [
    "data = {\n",
    "    \"Name\":['Ram',None,'shyam','Heet','Sunny','Karan','Smit','Raj'],\n",
    "    \"Age\":[20,None,35,22,40,29,70,25],\n",
    "    \"Salary\":[60000,None,20000,90000,45000,24000,99000,87000],\n",
    "    \"PerformanceScore\":[85,None,90,80,45,98,None,69]\n",
    "}\n",
    "\n",
    "df = pd.DataFrame(data)\n",
    "\n",
    "df.dropna(axis=0,inplace=True)\n",
    "print(df)"
   ]
  },
  {
   "cell_type": "markdown",
   "metadata": {},
   "source": [
    "## Fillna() method"
   ]
  },
  {
   "cell_type": "code",
   "execution_count": null,
   "metadata": {},
   "outputs": [],
   "source": [
    "data = {\n",
    "    \"Name\":['Ram',None,'shyam','Heet','Sunny','Karan','Smit','Raj'],\n",
    "    \"Age\":[20,None,35,22,40,29,70,25],\n",
    "    \"Salary\":[60000,None,20000,None,45000,24000,99000,87000],\n",
    "    \"PerformanceScore\":[85,None,90,80,45,98,None,69]\n",
    "}\n",
    "\n",
    "df = pd.DataFrame(data)\n",
    "\n",
    "df.fillna(0,inplace=True)\n",
    "print(df)\n",
    "\n",
    "df['Age'].fillna(df['Age'].mean(),inplace=True)\n",
    "df['Salary'].fillna(df['Salary'].mean(),inplace=True)\n",
    "print(df)"
   ]
  },
  {
   "cell_type": "markdown",
   "metadata": {},
   "source": [
    "## Interpolate() method"
   ]
  },
  {
   "cell_type": "code",
   "execution_count": null,
   "metadata": {},
   "outputs": [],
   "source": [
    "data = {\n",
    "    \"Name\":['Ram','Harsh','shyam','Heet','Sunny','Karan','Smit','Raj'],\n",
    "    \"Age\":[20,np.nan,35,22,40,29,70,25],\n",
    "    \"Salary\":[25000,np.nan,20000,np.nan,45000,24000,99000,87000],\n",
    "    \"PerformanceScore\":[85,np.nan,90,80,45,98,np.nan,69]\n",
    "}\n",
    "\n",
    "df = pd.DataFrame(data)\n",
    "print(df)\n",
    "\n",
    "df['Salary'] = df['Salary'].interpolate(method=\"linear\",inplace=True)\n",
    "print(df)"
   ]
  }
 ],
 "metadata": {
  "kernelspec": {
   "display_name": ".venv",
   "language": "python",
   "name": "python3"
  },
  "language_info": {
   "codemirror_mode": {
    "name": "ipython",
    "version": 3
   },
   "file_extension": ".py",
   "mimetype": "text/x-python",
   "name": "python",
   "nbconvert_exporter": "python",
   "pygments_lexer": "ipython3",
   "version": "3.13.2"
  }
 },
 "nbformat": 4,
 "nbformat_minor": 2
}
