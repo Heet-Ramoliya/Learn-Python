{
 "cells": [
  {
   "cell_type": "code",
   "execution_count": 3,
   "metadata": {},
   "outputs": [],
   "source": [
    "import numpy as np"
   ]
  },
  {
   "cell_type": "markdown",
   "metadata": {},
   "source": [
    "### creating array from list"
   ]
  },
  {
   "cell_type": "code",
   "execution_count": 4,
   "metadata": {},
   "outputs": [
    {
     "name": "stdout",
     "output_type": "stream",
     "text": [
      "[1 2 3 4 5]\n",
      "[[1 2 3]\n",
      " [4 5 6]]\n"
     ]
    }
   ],
   "source": [
    "arr_1d = np.array([1,2,3,4,5])\n",
    "print(arr_1d)\n",
    "\n",
    "arr_2d = np.array([[1,2,3],[4,5,6]])\n",
    "print(arr_2d)"
   ]
  },
  {
   "cell_type": "markdown",
   "metadata": {},
   "source": [
    "### List vs Numpy array"
   ]
  },
  {
   "cell_type": "code",
   "execution_count": 33,
   "metadata": {},
   "outputs": [
    {
     "name": "stdout",
     "output_type": "stream",
     "text": [
      "Python list mulltiplication:  [1, 2, 3, 1, 2, 3]\n",
      "Numpy array mulltiplication:  [2 4 6]\n",
      "\n",
      "List operation time:  0.06379556655883789\n",
      "\n",
      "Numpy operation time:  0.006667375564575195\n"
     ]
    }
   ],
   "source": [
    "py_list = [1,2,3]\n",
    "print(\"Python list mulltiplication: \",py_list*2)\n",
    "\n",
    "np_array = np.array([1,2,3])\n",
    "print(\"Numpy array mulltiplication: \",np_array*2)\n",
    "\n",
    "import time\n",
    "\n",
    "start = time.time()\n",
    "py_list = [i*2 for i in range(1000000)]\n",
    "print(\"\\nList operation time: \",time.time() - start)\n",
    "\n",
    "start = time.time()\n",
    "np_array = np.arange(1000000) * 2\n",
    "print(\"\\nNumpy operation time: \",time.time() - start)"
   ]
  },
  {
   "cell_type": "markdown",
   "metadata": {},
   "source": [
    "### creating array from scratch"
   ]
  },
  {
   "cell_type": "code",
   "execution_count": 35,
   "metadata": {},
   "outputs": [
    {
     "name": "stdout",
     "output_type": "stream",
     "text": [
      "zeros array: \n",
      " [[0. 0. 0. 0.]\n",
      " [0. 0. 0. 0.]\n",
      " [0. 0. 0. 0.]]\n",
      "\n",
      "ones array: \n",
      " [[1. 1.]\n",
      " [1. 1.]]\n",
      "\n",
      "full array: \n",
      " [[8 8]\n",
      " [8 8]]\n",
      "\n",
      "random array: \n",
      " [[0.45917879 0.08237403 0.70598003]\n",
      " [0.45681313 0.12489566 0.04526507]\n",
      " [0.02733217 0.59601482 0.14275816]]\n",
      "\n",
      "sequence array: \n",
      " [ 0  2  4  6  8 10]\n"
     ]
    }
   ],
   "source": [
    "zeros = np.zeros((3,4))\n",
    "print(\"zeros array: \\n\",zeros)\n",
    "\n",
    "ones = np.ones((2,2))\n",
    "print(\"\\nones array: \\n\",ones)\n",
    "\n",
    "full = np.full((2,2),8)\n",
    "print(\"\\nfull array: \\n\",full)\n",
    "\n",
    "random = np.random.random((3,3))\n",
    "print(\"\\nrandom array: \\n\",random)\n",
    "\n",
    "sequence = np.arange(0,11,2)\n",
    "print(\"\\nsequence array: \\n\",sequence)\n"
   ]
  },
  {
   "cell_type": "markdown",
   "metadata": {},
   "source": [
    "### Vector, Matrix and Tensor"
   ]
  },
  {
   "cell_type": "code",
   "execution_count": 38,
   "metadata": {},
   "outputs": [
    {
     "name": "stdout",
     "output_type": "stream",
     "text": [
      "vector: \n",
      " [1 2 3]\n",
      "\n",
      "matrix: \n",
      " [[1 2 3]\n",
      " [4 5 6]]\n",
      "\n",
      "tensor: \n",
      " [[[1 2]\n",
      "  [3 4]]\n",
      "\n",
      " [[5 6]\n",
      "  [7 8]]]\n"
     ]
    }
   ],
   "source": [
    "vector = np.array([1,2,3])\n",
    "print(\"vector: \\n\",vector)\n",
    "\n",
    "matrix = np.array([[1,2,3],[4,5,6]])\n",
    "print(\"\\nmatrix: \\n\",matrix)\n",
    "\n",
    "tensor = np.array([[[1,2],[3,4]],\n",
    "                   [[5,6],[7,8]]])\n",
    "print(\"\\ntensor: \\n\",tensor)"
   ]
  },
  {
   "cell_type": "markdown",
   "metadata": {},
   "source": [
    "### Array properties"
   ]
  },
  {
   "cell_type": "code",
   "execution_count": 44,
   "metadata": {},
   "outputs": [
    {
     "name": "stdout",
     "output_type": "stream",
     "text": [
      "Shape:  (3, 3)\n",
      "Dimension:  2\n",
      "Size:  9\n",
      "DType:  int64\n"
     ]
    }
   ],
   "source": [
    "arr = np.array([[1,2,3],\n",
    "                [4,5,6],\n",
    "                [7,8,9]])\n",
    "\n",
    "print(\"Shape: \",arr.shape)\n",
    "print(\"Dimension: \",arr.ndim)\n",
    "print(\"Size: \",arr.size)\n",
    "print(\"DType: \",arr.dtype)"
   ]
  },
  {
   "cell_type": "markdown",
   "metadata": {},
   "source": [
    "### Array Reshaping"
   ]
  },
  {
   "cell_type": "code",
   "execution_count": 55,
   "metadata": {},
   "outputs": [
    {
     "name": "stdout",
     "output_type": "stream",
     "text": [
      "Original array:  [ 0  1  2  3  4  5  6  7  8  9 10 11]\n",
      "\n",
      "Reshaped array: \n",
      " [[ 0  1  2  3]\n",
      " [ 4  5  6  7]\n",
      " [ 8  9 10 11]]\n",
      "\n",
      "Flattend array:  [ 0  1  2  3  4  5  6  7  8  9 10 11]\n",
      "\n",
      "Raveled array:  [ 0  1  2  3  4  5  6  7  8  9 10 11]\n",
      "\n",
      "Transposed array: \n",
      " [[ 0  4  8]\n",
      " [ 1  5  9]\n",
      " [ 2  6 10]\n",
      " [ 3  7 11]]\n"
     ]
    }
   ],
   "source": [
    "arr = np.arange(12)\n",
    "print(\"Original array: \",arr)\n",
    "\n",
    "reshaped = arr.reshape((3,4))\n",
    "print(\"\\nReshaped array: \\n\",reshaped)\n",
    "\n",
    "# flatten() and ravel() are used to convert a multi-dimensional array into a 1D array\n",
    "\n",
    "# flatten() does not affect the original array.Always returns a copy of the original array\n",
    "flattend = reshaped.flatten()\n",
    "print(\"\\nFlattend array: \",flattend)\n",
    "\n",
    "# ravel() may affect the original array\n",
    "raveled = reshaped.ravel()\n",
    "print(\"\\nRaveled array: \",raveled)\n",
    "\n",
    "transpose = reshaped.T\n",
    "print(\"\\nTransposed array: \\n\",transpose)"
   ]
  }
 ],
 "metadata": {
  "kernelspec": {
   "display_name": ".venv",
   "language": "python",
   "name": "python3"
  },
  "language_info": {
   "codemirror_mode": {
    "name": "ipython",
    "version": 3
   },
   "file_extension": ".py",
   "mimetype": "text/x-python",
   "name": "python",
   "nbconvert_exporter": "python",
   "pygments_lexer": "ipython3",
   "version": "3.13.2"
  }
 },
 "nbformat": 4,
 "nbformat_minor": 2
}
