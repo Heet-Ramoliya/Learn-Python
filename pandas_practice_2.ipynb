{
  "cells": [
    {
      "cell_type": "markdown",
      "metadata": {},
      "source": [
        "# Pandas Practice with Small Retail Sales Data\n",
        "\n",
        "This notebook creates a compact DataFrame with 10 retail sales transactions, mimicking real-world data with missing values and diverse data types. The data includes transaction details, store information, product categories, and customer data. Below are 10 practice questions to apply Pandas skills to industry-level tasks. Each question is explained to clarify the requirements. Write your code in the provided cells and run them in VSCode to test your solutions. Run the first cell to create the DataFrame and save it as `sales_data.csv`."
      ]
    },
    {
      "cell_type": "code",
      "execution_count": null,
      "metadata": {},
      "outputs": [],
      "source": [
        "import pandas as pd\n",
        "import numpy as np\n",
        "from datetime import datetime, timedelta\n",
        "\n",
        "np.random.seed(42)\n",
        "\n",
        "n_rows = 10\n",
        "dates = [datetime(2024, 1, 1) + timedelta(days=np.random.randint(0, 365)) for _ in range(n_rows)]\n",
        "store_ids = np.random.choice(['S001', 'S002', 'S003', 'S004'], n_rows)\n",
        "categories = np.random.choice(['Electronics', 'Clothing', 'Groceries', 'Home Goods'], n_rows)\n",
        "products = np.random.choice(['Laptop', 'T-Shirt', 'Milk', 'Lamp', 'Smartphone', 'Jeans', 'Cereal', 'Table'], n_rows)\n",
        "quantities = np.random.randint(1, 10, n_rows)\n",
        "unit_prices = np.random.uniform(5, 500, n_rows).round(2)\n",
        "unit_prices[np.random.choice(n_rows, size=2, replace=False)] = np.nan  \n",
        "total_sales = quantities * unit_prices\n",
        "customer_ids = np.random.choice([f'C{str(i).zfill(3)}' for i in range(1, 21)] + [np.nan], n_rows, p=[0.04]*20 + [0.2])\n",
        "payment_methods = np.random.choice(['Credit Card', 'Cash', 'Debit Card', 'Online'], n_rows)\n",
        "regions = np.random.choice(['North', 'South', 'East', 'West'], n_rows)\n",
        "discounts = np.random.uniform(0, 0.3, n_rows).round(2)\n",
        "discounts[np.random.choice(n_rows, size=2, replace=False)] = np.nan  \n",
        "store_sizes = np.random.choice(['Small', 'Medium', 'Large'], n_rows)\n",
        "employee_ids = np.random.choice([f'E{str(i).zfill(3)}' for i in range(1, 11)], n_rows)\n",
        "is_online = np.random.choice([True, False], n_rows, p=[0.3, 0.7])\n",
        "\n",
        "data = {\n",
        "    'Transaction_ID': [f'T{str(i).zfill(4)}' for i in range(1, n_rows + 1)],\n",
        "    'Date': dates,\n",
        "    'Store_ID': store_ids,\n",
        "    'Product_Category': categories,\n",
        "    'Product_Name': products,\n",
        "    'Quantity_Sold': quantities,\n",
        "    'Unit_Price': unit_prices,\n",
        "    'Total_Sale': total_sales,\n",
        "    'Customer_ID': customer_ids,\n",
        "    'Payment_Method': payment_methods,\n",
        "    'Region': regions,\n",
        "    'Discount_Applied': discounts,\n",
        "    'Store_Size': store_sizes,\n",
        "    'Employee_ID': employee_ids,\n",
        "    'Is_Online': is_online\n",
        "}\n",
        "\n",
        "df = pd.DataFrame(data)\n",
        "\n",
        "df.to_csv('sales_data.csv', index=False)"
      ]
    },
    {
      "cell_type": "markdown",
      "metadata": {},
      "source": [
        "## Practice Questions\n",
        "\n",
        "Below are 10 industry-relevant Pandas practice questions tailored to the small retail sales dataset. Each question simulates a common data analysis task. Write your code in the provided cells to solve each question. Use the DataFrame `df` or read from `sales_data.csv` as needed."
      ]
    },
    {
      "cell_type": "markdown",
      "metadata": {},
      "source": [
        "### Question 1: Load and inspect the CSV file\n",
        "\n",
        "**Explanation**:\n",
        "- Read the `sales_data.csv` file into a DataFrame and display all rows to understand its structure. Check the column names and data types."
      ]
    },
    {
      "cell_type": "code",
      "execution_count": null,
      "metadata": {},
      "outputs": [],
      "source": [
        "df = pd.read_csv(\"sales_data.csv\")\n",
        "df.info()"
      ]
    },
    {
      "cell_type": "markdown",
      "metadata": {},
      "source": [
        "### Question 2: Check for missing values\n",
        "\n",
        "**Explanation**:\n",
        "- Identify which columns have missing values and count how many missing entries each column has. This is a critical step in data cleaning."
      ]
    },
    {
      "cell_type": "code",
      "execution_count": null,
      "metadata": {},
      "outputs": [],
      "source": [
        "df.isnull().sum()"
      ]
    },
    {
      "cell_type": "markdown",
      "metadata": {},
      "source": [
        "### Question 3: Fill missing Unit_Price with the mean price\n",
        "\n",
        "**Explanation**:\n",
        "- Replace missing values in `Unit_Price` with the mean `Unit_Price` across the dataset. This is a simple imputation method for missing prices."
      ]
    },
    {
      "cell_type": "code",
      "execution_count": null,
      "metadata": {},
      "outputs": [],
      "source": [
        "df[\"Unit_Price\"].fillna(df[\"Unit_Price\"].mean(),inplace=True)\n",
        "df"
      ]
    },
    {
      "cell_type": "markdown",
      "metadata": {},
      "source": [
        "### Question 4: Calculate total sales by Product_Category\n",
        "\n",
        "**Explanation**:\n",
        "- Compute the sum of `Total_Sale` for each `Product_Category`. This helps identify which categories generate the most revenue."
      ]
    },
    {
      "cell_type": "code",
      "execution_count": null,
      "metadata": {},
      "outputs": [],
      "source": [
        "df.groupby(\"Product_Category\")[\"Total_Sale\"].sum()"
      ]
    },
    {
      "cell_type": "markdown",
      "metadata": {},
      "source": [
        "### Question 5: Filter online transactions\n",
        "\n",
        "**Explanation**:\n",
        "- Filter the DataFrame to show only transactions where `Is_Online` is True. This isolates online sales for analysis."
      ]
    },
    {
      "cell_type": "code",
      "execution_count": null,
      "metadata": {},
      "outputs": [],
      "source": [
        "df[df['Is_Online'] == True]"
      ]
    },
    {
      "cell_type": "markdown",
      "metadata": {},
      "source": [
        "### Question 6: Add a column for Discounted_Sale\n",
        "\n",
        "**Explanation**:\n",
        "- Create a column `Discounted_Sale` that calculates the sale amount after applying the `Discount_Applied` percentage (e.g., if `Discount_Applied` is 0.1, reduce `Total_Sale` by 10%). Use 0 for missing `Discount_Applied` values."
      ]
    },
    {
      "cell_type": "code",
      "execution_count": null,
      "metadata": {},
      "outputs": [],
      "source": [
        "df['Discounted_Sale'] = df['Total_Sale'] * (1 - df['Discount_Applied'].fillna(0))\n",
        "df"
      ]
    },
    {
      "cell_type": "markdown",
      "metadata": {},
      "source": [
        "### Question 7: Count transactions by Payment_Method\n",
        "\n",
        "**Explanation**:\n",
        "- Count the number of transactions for each `Payment_Method`. This helps understand payment preferences."
      ]
    },
    {
      "cell_type": "code",
      "execution_count": null,
      "metadata": {},
      "outputs": [],
      "source": [
        "df.groupby('Payment_Method')['Payment_Method'].count()"
      ]
    },
    {
      "cell_type": "markdown",
      "metadata": {},
      "source": [
        "### Question 8: Drop rows with missing Total_Sale\n",
        "\n",
        "**Explanation**:\n",
        "- Remove any rows where `Total_Sale` is missing (due to missing `Unit_Price`). Update the DataFrame."
      ]
    },
    {
      "cell_type": "code",
      "execution_count": null,
      "metadata": {},
      "outputs": [],
      "source": [
        "df = df.dropna(subset=['Total_Sale'],inplace=True)"
      ]
    },
    {
      "cell_type": "markdown",
      "metadata": {},
      "source": [
        "### Question 9: Merge with store metadata\n",
        "\n",
        "**Explanation**:\n",
        "- Create a DataFrame with store metadata (e.g., `Store_ID`, `Store_Name`). Merge it with the main DataFrame on `Store_ID` using a left join to add store names."
      ]
    },
    {
      "cell_type": "code",
      "execution_count": null,
      "metadata": {},
      "outputs": [],
      "source": []
    },
    {
      "cell_type": "markdown",
      "metadata": {},
      "source": [
        "### Question 10: Export cleaned DataFrame to CSV\n",
        "\n",
        "**Explanation**:\n",
        "- After cleaning (e.g., handling missing values, adding columns), export the updated DataFrame to `cleaned_sales_data.csv` without the index."
      ]
    },
    {
      "cell_type": "code",
      "execution_count": null,
      "metadata": {},
      "outputs": [],
      "source": []
    }
  ],
  "metadata": {
    "kernelspec": {
      "display_name": ".venv",
      "language": "python",
      "name": "python3"
    },
    "language_info": {
      "codemirror_mode": {
        "name": "ipython",
        "version": 3
      },
      "file_extension": ".py",
      "mimetype": "text/x-python",
      "name": "python",
      "nbconvert_exporter": "python",
      "pygments_lexer": "ipython3",
      "version": "3.13.2"
    }
  },
  "nbformat": 4,
  "nbformat_minor": 4
}
