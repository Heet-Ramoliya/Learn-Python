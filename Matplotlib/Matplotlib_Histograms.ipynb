{
 "cells": [
  {
   "cell_type": "markdown",
   "metadata": {},
   "source": [
    "### When to Use a Histogram\n",
    "\n",
    "A histogram in Matplotlib, created using `plt.hist()`, is used to visualize the distribution of numerical data by dividing the data into bins and showing the frequency (or count) of values in each bin. Histograms are ideal for continuous or numerical data, unlike bar plots, which are for categorical data.\n",
    "\n",
    "#### Key Uses of Histograms\n",
    "\n",
    "Use a histogram when you want to:\n",
    "\n",
    "- **Explore data distribution**: Understand the shape of the data (e.g., normal, skewed, bimodal).\n",
    "- **Analyze frequency**: See how often values fall within specific ranges.\n",
    "- **Identify outliers**: Detect unusual values or tails in the data.\n",
    "- **Compare distributions**: Overlay histograms to compare multiple datasets.\n",
    "- **Visualize patterns**: Spot trends, clusters, or gaps in numerical data."
   ]
  },
  {
   "cell_type": "code",
   "execution_count": 1,
   "metadata": {},
   "outputs": [],
   "source": [
    "import matplotlib.pyplot as plt\n",
    "import numpy as np"
   ]
  },
  {
   "cell_type": "code",
   "execution_count": null,
   "metadata": {},
   "outputs": [
    {
     "data": {
      "image/png": "[encoded data removed]",
      "text/plain": [
       "<Figure size 640x480 with 1 Axes>"
      ]
     },
     "metadata": {},
     "output_type": "display_data"
    }
   ],
   "source": [
    "x = np.random.normal(170, 10, 250)\n",
    "plt.hist(x)\n",
    "plt.show() "
   ]
  }
 ],
 "metadata": {
  "kernelspec": {
   "display_name": ".venv",
   "language": "python",
   "name": "python3"
  },
  "language_info": {
   "codemirror_mode": {
    "name": "ipython",
    "version": 3
   },
   "file_extension": ".py",
   "mimetype": "text/x-python",
   "name": "python",
   "nbconvert_exporter": "python",
   "pygments_lexer": "ipython3",
   "version": "3.13.2"
  }
 },
 "nbformat": 4,
 "nbformat_minor": 2
}
